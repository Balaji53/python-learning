{
 "cells": [
  {
   "cell_type": "code",
   "execution_count": 11,
   "id": "fe3a8abb-cf2c-4092-ab42-78349e8753e2",
   "metadata": {},
   "outputs": [
    {
     "name": "stdin",
     "output_type": "stream",
     "text": [
      "enter a  string to replace vkjh\n"
     ]
    },
    {
     "name": "stdout",
     "output_type": "stream",
     "text": [
      "welcome vkjh\n",
      "<class 'str'>\n"
     ]
    }
   ],
   "source": [
    "new =input(\"enter a  string to replace\")\n",
    "r=\"welcome\"\n",
    "r= r[0:7]+\" \" + new\n",
    "print(r)\n",
    "print(type(r))"
   ]
  },
  {
   "cell_type": "code",
   "execution_count": 13,
   "id": "bb34c45d-06c9-43fd-885f-4d82ee3fcb51",
   "metadata": {},
   "outputs": [
    {
     "name": "stdout",
     "output_type": "stream",
     "text": [
      "Python\n"
     ]
    }
   ],
   "source": [
    "chars = [\"P\", \"y\", \"t\", \"h\", \"o\", \"n\"]\n",
    "word = \"\".join(chars)  \n",
    "print(word)  \n"
   ]
  },
  {
   "cell_type": "code",
   "execution_count": null,
   "id": "ff719164-bc17-4558-ae81-134147eebd4f",
   "metadata": {},
   "outputs": [],
   "source": []
  }
 ],
 "metadata": {
  "kernelspec": {
   "display_name": "Python 3 (ipykernel)",
   "language": "python",
   "name": "python3"
  },
  "language_info": {
   "codemirror_mode": {
    "name": "ipython",
    "version": 3
   },
   "file_extension": ".py",
   "mimetype": "text/x-python",
   "name": "python",
   "nbconvert_exporter": "python",
   "pygments_lexer": "ipython3",
   "version": "3.13.2"
  }
 },
 "nbformat": 4,
 "nbformat_minor": 5
}
