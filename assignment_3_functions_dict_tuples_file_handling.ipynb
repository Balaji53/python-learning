{
 "cells": [
  {
   "cell_type": "markdown",
   "metadata": {},
   "source": [
    "<h2 align=\"center\" style=\"color:blue\">Codebasics Python Course: Exercise - Functions, Dict, Tuples, File Handling</h2>"
   ]
  },
  {
   "cell_type": "markdown",
   "metadata": {},
   "source": [
    "Imagine you run a loyalty program where customers earn rewards based on the total amount they have spent. The rewards levels are defined based on the total purchase amount. Based on this scenario, complete the following tasks"
   ]
  },
  {
   "cell_type": "markdown",
   "metadata": {},
   "source": [
    "### Task 1\n",
    "\n",
    "You are given a file called ```customers.txt``` that contains the name of the customer and total amount they spent. Read this file line by line and save the customer name and total amount in a dictionary.\n",
    "\n",
    "For example, customers.txt file will content the data in the following format,\n",
    "```\n",
    "Srinivas,120\n",
    "John,250\n",
    "Maria,150\n",
    "Smith,510\n",
    "Anjali,45\n",
    "```\n",
    "\n",
    "You will read this and build a dictionary like this,\n",
    "```\n",
    "{\n",
    "    \"Srinivas\": 120,\n",
    "    \"John\": 250,\n",
    "    \"Maria\": 150,\n",
    "    \"Smith\": 510,\n",
    "    \"Anjali\": 45\n",
    "}\n",
    "```"
   ]
  },
  {
   "cell_type": "code",
   "execution_count": 1,
   "metadata": {},
   "outputs": [],
   "source": [
    "# write your code here\n",
    "with open(\"customer.txt\", \"w\") as t:\n",
    "    t.writelines([\n",
    "        \"Srinivas,120\\n\",\n",
    "        \"John,250\\n\",\n",
    "        \"Maria,150\\n\",\n",
    "        \"Smith,510\\n\",\n",
    "        \"Anjali,45\\n\"])"
   ]
  },
  {
   "cell_type": "code",
   "execution_count": 4,
   "metadata": {},
   "outputs": [
    {
     "name": "stdout",
     "output_type": "stream",
     "text": [
      "{'Srinivas': 120, 'John': 250, 'Maria': 150, 'Smith': 510, 'Anjali': 45}\n"
     ]
    }
   ],
   "source": [
    "u={}\n",
    "with open(\"customer.txt\",\"r\") as y:\n",
    "    \n",
    "    for li in y:\n",
    "        name,sc = li.split(\",\")\n",
    "        sc= int(sc.strip())\n",
    "        u[name]=sc\n",
    "print(u)"
   ]
  },
  {
   "cell_type": "markdown",
   "metadata": {},
   "source": [
    "### Task 2\n",
    "\n",
    "The rewards levels are defined below based on the total purchase amount. Using this define a function called calculate_rewards that takes total as input and returns the reward.\n",
    "\n",
    "```\n",
    "1. Bronze: Total purchases $100-$199\n",
    "1. Silver: Total purchases $200-$499\n",
    "1. Gold: Total purchases $500+\n",
    "```"
   ]
  },
  {
   "cell_type": "code",
   "execution_count": 23,
   "metadata": {},
   "outputs": [
    {
     "name": "stdin",
     "output_type": "stream",
     "text": [
      "Enter the number:  320\n"
     ]
    },
    {
     "name": "stdout",
     "output_type": "stream",
     "text": [
      "Reward: Silver\n"
     ]
    }
   ],
   "source": [
    "# write your code here\n",
    "def calculate_rewards(total):\n",
    "    if total >= 100 and total <= 199:\n",
    "        return \"Bronze\"\n",
    "    elif total >= 200 and total <= 499:\n",
    "        return \"Silver\"\n",
    "    elif total >= 500:\n",
    "        return \"Gold\"\n",
    "    else:\n",
    "        return \"None\"\n",
    "total = int(input(\"Enter the number: \"))\n",
    "\n",
    "reward = calculate_rewards(total)\n",
    "print(f\"Reward: {reward}\")"
   ]
  },
  {
   "cell_type": "markdown",
   "metadata": {},
   "source": [
    "### Task 3\n",
    "\n",
    "Now for each of the customers in our customers_dict, calculate the rewards and build a customers_summary dictionary that looks like the following, (key is the name of the customer and the value is a tuple containing total amount and rewards level)\n",
    "\n",
    "```\n",
    "{\n",
    "    'Srinivas': (120, 'Bronze'),\n",
    "    'John': (250, 'Silver'),\n",
    "    'Maria': (150, 'Bronze'),\n",
    "    'Smith': (510, 'Gold'),\n",
    "    'Anjali': (45, 'None')\n",
    "}\n",
    "```"
   ]
  },
  {
   "cell_type": "code",
   "execution_count": 31,
   "metadata": {},
   "outputs": [
    {
     "name": "stdout",
     "output_type": "stream",
     "text": [
      "{'Srinivas': (120, 'Bronze'), 'John': (250, 'Silver'), 'Maria': (150, 'Bronze'), 'Smith': (510, 'Gold'), 'Anjali': (45, 'None')}\n"
     ]
    }
   ],
   "source": [
    "# write your code here\n",
    "u={}\n",
    "with open(\"customer.txt\",\"r\") as y:\n",
    "    \n",
    "    for li in y:\n",
    "        name,sc = li.split(\",\")\n",
    "        sc= int(sc.strip())\n",
    "        r=calculate_rewards(sc)\n",
    "        u[name]=sc,r\n",
    "        \n",
    "print(u)  \n"
   ]
  },
  {
   "cell_type": "markdown",
   "metadata": {},
   "source": [
    "### Task 4\n",
    "\n",
    "Now stitch all of the above code together and create a function that takes file name as input and returns the customer_summary dictionary.\n",
    "\n",
    "```\n",
    "def process_customer_data(file_name):\n",
    "    # return customer_summary dict\n",
    "```"
   ]
  },
  {
   "cell_type": "code",
   "execution_count": 38,
   "metadata": {},
   "outputs": [],
   "source": [
    "# write your code here\n",
    "def customer_summary(file_name):\n",
    "    u={}\n",
    "    with open(file_name,\"r\") as y:\n",
    "        for li in y:\n",
    "            name,sc = li.split(\",\")\n",
    "            sc= int(sc.strip())\n",
    "            r=calculate_rewards(sc)\n",
    "            \n",
    "            u[name]=sc,r\n",
    "    return u"
   ]
  },
  {
   "cell_type": "code",
   "execution_count": 39,
   "metadata": {},
   "outputs": [
    {
     "name": "stdin",
     "output_type": "stream",
     "text": [
      "Enter the file name: customer.txt\n"
     ]
    },
    {
     "data": {
      "text/plain": [
       "{'Srinivas': (120, 'Bronze'),\n",
       " 'John': (250, 'Silver'),\n",
       " 'Maria': (150, 'Bronze'),\n",
       " 'Smith': (510, 'Gold'),\n",
       " 'Anjali': (45, 'None')}"
      ]
     },
     "execution_count": 39,
     "metadata": {},
     "output_type": "execute_result"
    }
   ],
   "source": [
    "t= input(\"Enter the file name:\")\n",
    "customer_summary(t)"
   ]
  },
  {
   "cell_type": "code",
   "execution_count": 18,
   "metadata": {},
   "outputs": [
    {
     "name": "stdout",
     "output_type": "stream",
     "text": [
      "Tom \n"
     ]
    }
   ],
   "source": [
    "class Dog:\n",
    "    def __init__(self, name, age):\n",
    "        self.name = name\n",
    "        self.age = age\n",
    "    def bark(self):\n",
    "        return f\"{self.name} says Woof!\"\n",
    "    def __str__(self):\n",
    "        return f\"{self.name} \"\n",
    "dog1=Dog(\"Tom\",26)\n",
    "print(dog1)\n"
   ]
  },
  {
   "cell_type": "code",
   "execution_count": null,
   "metadata": {},
   "outputs": [],
   "source": []
  }
 ],
 "metadata": {
  "colab": {
   "collapsed_sections": [],
   "name": "1_Variables.ipynb",
   "provenance": []
  },
  "kernelspec": {
   "display_name": "Python 3 (ipykernel)",
   "language": "python",
   "name": "python3"
  },
  "language_info": {
   "codemirror_mode": {
    "name": "ipython",
    "version": 3
   },
   "file_extension": ".py",
   "mimetype": "text/x-python",
   "name": "python",
   "nbconvert_exporter": "python",
   "pygments_lexer": "ipython3",
   "version": "3.13.2"
  }
 },
 "nbformat": 4,
 "nbformat_minor": 4
}
