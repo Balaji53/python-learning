{
 "cells": [
  {
   "cell_type": "code",
   "execution_count": 2,
   "id": "ea52e973-4bfe-444a-b359-0e4b50fe2fbe",
   "metadata": {},
   "outputs": [
    {
     "name": "stdout",
     "output_type": "stream",
     "text": [
      "['This analysis helps to:\\n', 'Identify top-selling products and optimize stock levels accordingly.\\n', 'Understand customer behavior to improve marketing and product assortment strategies.\\n', 'Optimize store operations and compare performance across different locations.']\n",
      "This analysis helps to:\n",
      "\n",
      "Identify top-selling products and optimize stock levels accordingly.\n",
      "\n",
      "Understand customer behavior to improve marketing and product assortment strategies.\n",
      "\n",
      "Optimize store operations and compare performance across different locations.\n"
     ]
    }
   ],
   "source": [
    "#reading Files\n",
    "with open(\"tes.txt\",'r') as f:\n",
    "    lines = f.readlines()\n",
    "    print(lines)\n",
    "for i in lines:\n",
    "        print(i)"
   ]
  },
  {
   "cell_type": "code",
   "execution_count": 49,
   "id": "47efcf0d-fd3c-4952-b4f8-905d8cd11ffd",
   "metadata": {},
   "outputs": [],
   "source": [
    "#creating file \n",
    "with open(\"new.csv\",\"w\") as f:\n",
    "    f.writelines([\"rohit,match#1,9,shakib,match#2,56,babar,match#3,56,rohit,match#4,120\"])\n",
    "\n"
   ]
  },
  {
   "cell_type": "code",
   "execution_count": 37,
   "id": "35a17506-3f3e-46ec-97d0-062c865ba5a3",
   "metadata": {},
   "outputs": [
    {
     "name": "stdout",
     "output_type": "stream",
     "text": [
      "{'rohit': [9, 120, 105, 140, 130], 'shakib': [56, 78, 102, 72], 'babar': [56, 45, 120, 5, 67]}\n"
     ]
    }
   ],
   "source": [
    "#reading file from csv and printing \n",
    "d={}\n",
    "with open(\"scores.csv\",'r') as f:\n",
    "    for line in f:\n",
    "        player,match_id,score = line.split(\",\")\n",
    "        score = int(score.strip())\n",
    "        if player in d:\n",
    "            d[player].append(score)\n",
    "        else:\n",
    "            d[player]=[score]\n",
    "print(d)"
   ]
  },
  {
   "cell_type": "code",
   "execution_count": 39,
   "id": "568aed99-f377-4e31-8b52-ecb0f6dc81a2",
   "metadata": {},
   "outputs": [
    {
     "name": "stdout",
     "output_type": "stream",
     "text": [
      "rohit  min:9,max9,avg100.8\n",
      "shakib  min:56,max56,avg77.0\n",
      "babar  min:5,max5,avg58.6\n"
     ]
    }
   ],
   "source": [
    "for player,score in d.items():\n",
    "    min_score = min(score)\n",
    "    max_score = min(score)\n",
    "    avg_score = sum(score)/len(score)\n",
    "    print(f\"{player}  min:{min_score},max{max_score},avg{avg_score}\")"
   ]
  },
  {
   "cell_type": "code",
   "execution_count": 44,
   "id": "eb6a8cd9-0cf2-45a5-af02-68eaf7a698bf",
   "metadata": {},
   "outputs": [],
   "source": [
    "#remove a file in %%python\n",
    "with open(\"try.txt\",\"w\") as t:\n",
    "    t.write(\"min_score = min(score)\")"
   ]
  },
  {
   "cell_type": "code",
   "execution_count": 45,
   "id": "ed5f62d0-c39e-45f3-8e83-378f7e6bc15a",
   "metadata": {},
   "outputs": [],
   "source": [
    "import os\n",
    "if os.path.exists(\"try.txt\"):\n",
    "    os.remove(\"try.txt\")\n",
    "else:\n",
    "    print(\"file does not exists\")\n",
    "    "
   ]
  },
  {
   "cell_type": "code",
   "execution_count": null,
   "id": "ad9cd11f-9e33-495d-82de-4d71879a8572",
   "metadata": {},
   "outputs": [],
   "source": []
  }
 ],
 "metadata": {
  "kernelspec": {
   "display_name": "Python 3 (ipykernel)",
   "language": "python",
   "name": "python3"
  },
  "language_info": {
   "codemirror_mode": {
    "name": "ipython",
    "version": 3
   },
   "file_extension": ".py",
   "mimetype": "text/x-python",
   "name": "python",
   "nbconvert_exporter": "python",
   "pygments_lexer": "ipython3",
   "version": "3.13.2"
  }
 },
 "nbformat": 4,
 "nbformat_minor": 5
}
