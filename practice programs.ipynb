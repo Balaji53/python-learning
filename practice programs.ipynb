{
 "cells": [
  {
   "cell_type": "code",
   "execution_count": 4,
   "id": "bdcd397e-4fa5-4e1f-9b90-05c5f731bc02",
   "metadata": {
    "scrolled": true
   },
   "outputs": [
    {
     "name": "stdout",
     "output_type": "stream",
     "text": [
      "Enter a number: 89\n",
      "Enter a number: 66\n",
      "Enter a number: 21\n"
     ]
    },
    {
     "name": "stdout",
     "output_type": "stream",
     "text": [
      "89 is greater\n"
     ]
    }
   ],
   "source": [
    "\n",
    "def largestnumber(li):\n",
    "    if num1 > num2:\n",
    "        if num1 > num3:\n",
    "            print(f\"{num1} is greater\")\n",
    "        else:\n",
    "            print(f\"{num3} is greater\")\n",
    "    else:\n",
    "        if num2>num3:\n",
    "            print(f\"{num2} is greater\")\n",
    "        else:\n",
    "            print(f\"{num3} is greater\")\n",
    "num1=int(input(\"Enter a number:\"))\n",
    "num2=int(input(\"Enter a number:\"))\n",
    "num3=int(input(\"Enter a number:\"))\n",
    "lis=[num1,num2,num3]\n",
    "largestnumber(lis)"
   ]
  },
  {
   "cell_type": "code",
   "execution_count": 8,
   "id": "b7b92fa4-ce99-4dd3-adb4-8c85ee8fe136",
   "metadata": {},
   "outputs": [
    {
     "name": "stdout",
     "output_type": "stream",
     "text": [
      "Enter the amount of numbers to find: 3\n",
      "Enter the number 566\n",
      "Enter the number 21351\n",
      "Enter the number 1515\n"
     ]
    },
    {
     "data": {
      "text/plain": [
       "21351"
      ]
     },
     "execution_count": 8,
     "metadata": {},
     "output_type": "execute_result"
    }
   ],
   "source": [
    "#to find largest number in a list\n",
    "def largest(t):\n",
    "    large=t[0]         # or print(f\"{max(t)} is the largest\")\n",
    "    for i in t:\n",
    "        if i > large:\n",
    "            large = i\n",
    "    return large\n",
    "r = int(input(\"Enter the amount of numbers to find:\"))\n",
    "num = [int(input(\"Enter the number\")) for j in range(r)]\n",
    "largest(num)"
   ]
  },
  {
   "cell_type": "code",
   "execution_count": null,
   "id": "37a9714b-f3bd-4f07-b388-eee5999ffc56",
   "metadata": {},
   "outputs": [],
   "source": []
  },
  {
   "cell_type": "code",
   "execution_count": 26,
   "id": "070ec1d8-c9da-4206-a712-25ebeb93be97",
   "metadata": {},
   "outputs": [
    {
     "name": "stdout",
     "output_type": "stream",
     "text": [
      "('mark', 68789784)\n"
     ]
    }
   ],
   "source": []
  },
  {
   "cell_type": "code",
   "execution_count": null,
   "id": "6555d5e6-b924-45bc-90c9-e278296a7371",
   "metadata": {},
   "outputs": [],
   "source": [
    "for player,score in d.items():\n",
    "    min_score = min(score)\n",
    "    max_score = min(score)\n",
    "    avg_score = sum(score)/len(score)\n",
    "    print(f\"{player}  min:{min_score},max{max_score},avg{avg_score}\")\n"
   ]
  },
  {
   "cell_type": "code",
   "execution_count": null,
   "id": "36c52f4b-6be7-43d2-8022-c29bbed6c9d8",
   "metadata": {},
   "outputs": [],
   "source": []
  }
 ],
 "metadata": {
  "kernelspec": {
   "display_name": "Python 3 (ipykernel)",
   "language": "python",
   "name": "python3"
  },
  "language_info": {
   "codemirror_mode": {
    "name": "ipython",
    "version": 3
   },
   "file_extension": ".py",
   "mimetype": "text/x-python",
   "name": "python",
   "nbconvert_exporter": "python",
   "pygments_lexer": "ipython3",
   "version": "3.13.2"
  }
 },
 "nbformat": 4,
 "nbformat_minor": 5
}
