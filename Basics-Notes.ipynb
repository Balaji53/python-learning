{
 "cells": [
  {
   "cell_type": "code",
   "execution_count": 1,
   "id": "30dc4305-2242-4e4d-8609-a7cb450e6a39",
   "metadata": {},
   "outputs": [
    {
     "name": "stdout",
     "output_type": "stream",
     "text": [
      "Hello welcome to python course\n"
     ]
    }
   ],
   "source": [
    "print(\"Hello welcome to python course\")"
   ]
  },
  {
   "cell_type": "code",
   "execution_count": 10,
   "id": "aab7741f-6bc9-4b6c-8a03-832889600308",
   "metadata": {},
   "outputs": [
    {
     "name": "stdout",
     "output_type": "stream",
     "text": [
      "2871232000000.0\n",
      "<class 'float'>\n"
     ]
    }
   ],
   "source": [
    "f = 2871232e6\n",
    "print(f)\n",
    "print(type(f))"
   ]
  },
  {
   "cell_type": "code",
   "execution_count": null,
   "id": "bc3d7aa3-51ca-4f18-8076-2455b045c10f",
   "metadata": {},
   "outputs": [],
   "source": [
    "import math\n",
    "math.expo\n"
   ]
  },
  {
   "cell_type": "code",
   "execution_count": 16,
   "id": "44cbde31-d514-43e2-b322-26e55501aeca",
   "metadata": {},
   "outputs": [
    {
     "name": "stdout",
     "output_type": "stream",
     "text": [
      "23340.0\n",
      "3125\n"
     ]
    }
   ],
   "source": [
    "t = 23.34e3\n",
    "print(t)\n",
    "print(pow(5,5))"
   ]
  },
  {
   "cell_type": "code",
   "execution_count": 2,
   "id": "1c98a49c-718c-45dc-a0f6-04546b7af82c",
   "metadata": {},
   "outputs": [
    {
     "name": "stdout",
     "output_type": "stream",
     "text": [
      "welcome \n",
      "45\n"
     ]
    }
   ],
   "source": [
    "print(\"welcome \")\n",
    "x = y = 45\n",
    "print(x)"
   ]
  },
  {
   "cell_type": "code",
   "execution_count": 12,
   "id": "5dc0bb2e-b0f3-4ae2-bf13-dcf6a9e65b17",
   "metadata": {},
   "outputs": [
    {
     "name": "stdout",
     "output_type": "stream",
     "text": [
      "6.0\n"
     ]
    }
   ],
   "source": [
    "print(45 // 6.5)"
   ]
  },
  {
   "cell_type": "code",
   "execution_count": 20,
   "id": "db905fe3-86ea-42a1-8daa-9bea40595bda",
   "metadata": {},
   "outputs": [
    {
     "name": "stdout",
     "output_type": "stream",
     "text": [
      "9\n"
     ]
    }
   ],
   "source": [
    "s=\"Checks if\"\n",
    "print(len(s))"
   ]
  },
  {
   "cell_type": "code",
   "execution_count": 9,
   "id": "2c3b869f-aa9e-4306-9933-7e3212372fb6",
   "metadata": {},
   "outputs": [
    {
     "name": "stdout",
     "output_type": "stream",
     "text": [
      "0\n"
     ]
    }
   ],
   "source": [
    "print(s.count('oe'))"
   ]
  },
  {
   "cell_type": "markdown",
   "id": "28888525-981f-4e19-b5d9-4392042c6aa0",
   "metadata": {},
   "source": [
    "Variables Excercise"
   ]
  },
  {
   "cell_type": "code",
   "execution_count": 17,
   "id": "98d88a30-7dac-4c69-88d6-747346c66cb4",
   "metadata": {},
   "outputs": [
    {
     "name": "stdout",
     "output_type": "stream",
     "text": [
      "The Himalayas\n",
      "mountain range\n",
      "The Himalayas on the plane\n"
     ]
    }
   ],
   "source": [
    "b=\"The Himalayas are one of the youngest mountain ranges on the planet\"\n",
    "print(b[0:13])\n",
    "print(b[-29:-15])\n",
    "t=b[0:13]\n",
    "tr=b[-13:-1]\n",
    "print(f\"{t} {tr}\")"
   ]
  },
  {
   "cell_type": "code",
   "execution_count": 19,
   "id": "f18e9f7b-1860-4d50-b756-8befdab6f5f1",
   "metadata": {},
   "outputs": [
    {
     "name": "stdout",
     "output_type": "stream",
     "text": [
      "There are 8 planets in the solar system\n"
     ]
    }
   ],
   "source": [
    "ex=\"There are 9 planets in the solar system\"\n",
    "print(ex.replace(\"9\",\"8\"))"
   ]
  },
  {
   "cell_type": "code",
   "execution_count": null,
   "id": "50dedf98-a565-442a-9f4e-d2545ccee5bf",
   "metadata": {},
   "outputs": [],
   "source": [
    "#dictionaries\n",
    "d = {'polly':\n",
    "     {'age':98665454,\n",
    "      'address':'Mumbai'},\n",
    "      'smith':{\n",
    "       'age':1454,\n",
    "       'address':'sydney'}}\n",
    "for con,data in d.items():\n",
    "    for pros,val in data.items():\n",
    "        print(f\"{con} {pros} : {val}\")"
   ]
  },
  {
   "cell_type": "code",
   "execution_count": null,
   "id": "37c90799-f974-40b2-8cb7-c465d0907007",
   "metadata": {},
   "outputs": [],
   "source": [
    "#Tuples\n",
    "contact = [('rachel',2444613),('mark',68789784),('joyce',224221)]\n",
    "for con in contact:\n",
    "    if con[0]== \"mark\":\n",
    "        print(con[0])\n",
    "        print(type(contact))"
   ]
  }
 ],
 "metadata": {
  "kernelspec": {
   "display_name": "Python 3 (ipykernel)",
   "language": "python",
   "name": "python3"
  },
  "language_info": {
   "codemirror_mode": {
    "name": "ipython",
    "version": 3
   },
   "file_extension": ".py",
   "mimetype": "text/x-python",
   "name": "python",
   "nbconvert_exporter": "python",
   "pygments_lexer": "ipython3",
   "version": "3.13.2"
  }
 },
 "nbformat": 4,
 "nbformat_minor": 5
}
